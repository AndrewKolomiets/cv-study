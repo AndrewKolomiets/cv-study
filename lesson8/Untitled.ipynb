{
 "cells": [
  {
   "cell_type": "code",
   "execution_count": 58,
   "id": "d580c0e7-47c2-4347-9c00-46b7d32a76b8",
   "metadata": {},
   "outputs": [],
   "source": [
    "import cv2\n",
    "import math\n",
    "import numpy as np"
   ]
  },
  {
   "cell_type": "code",
   "execution_count": 59,
   "id": "8de7222a-d92c-4eec-8ca3-78add5e754d2",
   "metadata": {},
   "outputs": [],
   "source": [
    "rows = 8\n",
    "cols = 5\n",
    "noiseArray = np.random.rand(rows, cols)"
   ]
  },
  {
   "cell_type": "code",
   "execution_count": 79,
   "id": "73582f2b-ee14-4328-9b38-8d97c88d5066",
   "metadata": {},
   "outputs": [
    {
     "data": {
      "text/plain": [
       "array([[0.9623104 , 0.82210548, 0.35372268, 0.39075572, 0.58227909],\n",
       "       [0.06415119, 0.52480775, 0.09237305, 0.94009873, 0.87593541],\n",
       "       [0.29047352, 0.3296953 , 0.98549611, 0.05718967, 0.8340484 ],\n",
       "       [0.88155983, 0.9856389 , 0.51002834, 0.07859941, 0.27016013],\n",
       "       [0.7747322 , 0.80593832, 0.37260952, 0.63258924, 0.38843434],\n",
       "       [0.08899941, 0.87121061, 0.11634027, 0.09101422, 0.2829882 ],\n",
       "       [0.07770406, 0.02894499, 0.63360527, 0.39778784, 0.04772168],\n",
       "       [0.41532897, 0.80371254, 0.00704789, 0.61648202, 0.49765335]])"
      ]
     },
     "execution_count": 79,
     "metadata": {},
     "output_type": "execute_result"
    }
   ],
   "source": [
    "noiseArray"
   ]
  },
  {
   "cell_type": "code",
   "execution_count": 74,
   "id": "f72d6b60-c937-4453-8b91-810cefc109d6",
   "metadata": {},
   "outputs": [],
   "source": [
    "item = np.array([0.35372268])"
   ]
  },
  {
   "cell_type": "code",
   "execution_count": 77,
   "id": "e2c0952e-9ce8-43ae-9409-9cc52cb37db0",
   "metadata": {},
   "outputs": [],
   "source": [
    "diff = noiseArray - item\n",
    "idx = np.argmin(diff, axis=1)"
   ]
  },
  {
   "cell_type": "code",
   "execution_count": 81,
   "id": "28f6b26f-039c-47e4-bdf4-320c07b024a0",
   "metadata": {},
   "outputs": [
    {
     "data": {
      "text/plain": [
       "(array([[ 6.08587723e-01,  4.68382797e-01, -3.01631425e-09,\n",
       "          3.70330352e-02,  2.28556409e-01],\n",
       "        [-2.89571486e-01,  1.71085068e-01, -2.61349635e-01,\n",
       "          5.86376052e-01,  5.22212731e-01],\n",
       "        [-6.32491612e-02, -2.40273848e-02,  6.31773433e-01,\n",
       "         -2.96533014e-01,  4.80325718e-01],\n",
       "        [ 5.27837155e-01,  6.31916221e-01,  1.56305656e-01,\n",
       "         -2.75123267e-01, -8.35625472e-02],\n",
       "        [ 4.21009523e-01,  4.52215645e-01,  1.88868374e-02,\n",
       "          2.78866556e-01,  3.47116554e-02],\n",
       "        [-2.64723274e-01,  5.17487932e-01, -2.37382410e-01,\n",
       "         -2.62708455e-01, -7.07344813e-02],\n",
       "        [-2.76018622e-01, -3.24777694e-01,  2.79882585e-01,\n",
       "          4.40651644e-02, -3.06001004e-01],\n",
       "        [ 6.16062892e-02,  4.49989863e-01, -3.46674794e-01,\n",
       "          2.62759340e-01,  1.43930672e-01]]),\n",
       " (8,))"
      ]
     },
     "execution_count": 81,
     "metadata": {},
     "output_type": "execute_result"
    }
   ],
   "source": [
    "diff, idx.shape"
   ]
  },
  {
   "cell_type": "code",
   "execution_count": 69,
   "id": "e888a973-69f2-4ab5-be14-52f633b7e7f5",
   "metadata": {},
   "outputs": [],
   "source": [
    "A=np.reshape(noiseArray,(40))"
   ]
  },
  {
   "cell_type": "code",
   "execution_count": 71,
   "id": "abc90de9-0fc8-497c-9c8a-35c53a92cd4b",
   "metadata": {},
   "outputs": [
    {
     "data": {
      "text/plain": [
       "0.0070478859822177276"
      ]
     },
     "execution_count": 71,
     "metadata": {},
     "output_type": "execute_result"
    }
   ],
   "source": [
    "A[idx]"
   ]
  }
 ],
 "metadata": {
  "kernelspec": {
   "display_name": "Python 3 (ipykernel)",
   "language": "python",
   "name": "python3"
  },
  "language_info": {
   "codemirror_mode": {
    "name": "ipython",
    "version": 3
   },
   "file_extension": ".py",
   "mimetype": "text/x-python",
   "name": "python",
   "nbconvert_exporter": "python",
   "pygments_lexer": "ipython3",
   "version": "3.12.5"
  }
 },
 "nbformat": 4,
 "nbformat_minor": 5
}
