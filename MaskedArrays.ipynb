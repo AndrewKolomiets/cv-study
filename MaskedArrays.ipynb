{
 "cells": [
  {
   "cell_type": "code",
   "execution_count": 105,
   "id": "147541a4-64e5-4580-bb72-19f1874a0977",
   "metadata": {},
   "outputs": [],
   "source": [
    "import numpy as np\n",
    "import numpy.ma as ma"
   ]
  },
  {
   "cell_type": "code",
   "execution_count": 120,
   "id": "76ebb4bd-2e54-490f-8fa8-9c90921134d5",
   "metadata": {},
   "outputs": [],
   "source": [
    "a = np.array([22,  33, 44,  55,  66, 22, 66, 22, 66,  5, 66])\n",
    "b = np.array([202, 33, 404, 505, 66, 22, 66, 202, 12, 5, 18])\n"
   ]
  },
  {
   "cell_type": "code",
   "execution_count": 121,
   "id": "148861fb-4909-48da-84d6-b3e62c2c0c5f",
   "metadata": {},
   "outputs": [],
   "source": [
    "a66 = a!=66"
   ]
  },
  {
   "cell_type": "code",
   "execution_count": 122,
   "id": "79729435-44e4-40f2-b4d0-532ad8f00952",
   "metadata": {},
   "outputs": [
    {
     "data": {
      "text/plain": [
       "array([ True,  True,  True,  True, False,  True, False,  True, False,\n",
       "        True, False])"
      ]
     },
     "execution_count": 122,
     "metadata": {},
     "output_type": "execute_result"
    }
   ],
   "source": [
    "a66"
   ]
  },
  {
   "cell_type": "code",
   "execution_count": 123,
   "id": "f72a8f9e-5117-4cae-bc32-3d0edaf2a378",
   "metadata": {},
   "outputs": [],
   "source": [
    "mx = ma.masked_array(b, mask=a66)"
   ]
  },
  {
   "cell_type": "code",
   "execution_count": 124,
   "id": "1b574c2a-4169-42a1-bc34-df50bf19a4f5",
   "metadata": {},
   "outputs": [
    {
     "data": {
      "text/plain": [
       "masked_array(data=[--, --, --, --, 66, --, 66, --, 12, --, 18],\n",
       "             mask=[ True,  True,  True,  True, False,  True, False,  True,\n",
       "                   False,  True, False],\n",
       "       fill_value=999999)"
      ]
     },
     "execution_count": 124,
     "metadata": {},
     "output_type": "execute_result"
    }
   ],
   "source": [
    "mx"
   ]
  },
  {
   "cell_type": "code",
   "execution_count": 125,
   "id": "4e3fd24f-143c-4fb8-af8c-4445e7b7ae9b",
   "metadata": {},
   "outputs": [],
   "source": [
    "mx = mx[~mx.mask]"
   ]
  },
  {
   "cell_type": "code",
   "execution_count": 126,
   "id": "6ac8cbb8-a10e-4aca-8e8f-ea999c4de6f1",
   "metadata": {},
   "outputs": [
    {
     "data": {
      "text/plain": [
       "masked_array(data=[66, 66, 12, 18],\n",
       "             mask=[False, False, False, False],\n",
       "       fill_value=999999)"
      ]
     },
     "execution_count": 126,
     "metadata": {},
     "output_type": "execute_result"
    }
   ],
   "source": [
    "mx"
   ]
  },
  {
   "cell_type": "code",
   "execution_count": 127,
   "id": "feddd6c5-e8b2-4551-a5cf-81e85597b70a",
   "metadata": {},
   "outputs": [],
   "source": [
    "mx[mx!=66] = 0\n"
   ]
  },
  {
   "cell_type": "code",
   "execution_count": 128,
   "id": "e91ad652-78fd-4847-85db-eccdfd2cf134",
   "metadata": {},
   "outputs": [
    {
     "data": {
      "text/plain": [
       "masked_array(data=[66, 66, 0, 0],\n",
       "             mask=[False, False, False, False],\n",
       "       fill_value=999999)"
      ]
     },
     "execution_count": 128,
     "metadata": {},
     "output_type": "execute_result"
    }
   ],
   "source": [
    "mx\n"
   ]
  },
  {
   "cell_type": "code",
   "execution_count": 129,
   "id": "320b05c2-5649-449d-ab03-7ffbe729f6f8",
   "metadata": {},
   "outputs": [
    {
     "data": {
      "text/plain": [
       "2"
      ]
     },
     "execution_count": 129,
     "metadata": {},
     "output_type": "execute_result"
    }
   ],
   "source": [
    "np.count_nonzero(mx)"
   ]
  },
  {
   "cell_type": "code",
   "execution_count": 130,
   "id": "45b8b88a-1d3e-4d7a-bd0c-84443af8b5c6",
   "metadata": {},
   "outputs": [],
   "source": [
    "def test_func():\n",
    "    print(\"on test\")"
   ]
  },
  {
   "cell_type": "code",
   "execution_count": 131,
   "id": "53cc35d5-4a43-4616-9131-c0d2f53225fe",
   "metadata": {},
   "outputs": [
    {
     "name": "stdout",
     "output_type": "stream",
     "text": [
      "on test\n"
     ]
    }
   ],
   "source": [
    "test_func()"
   ]
  },
  {
   "cell_type": "code",
   "execution_count": null,
   "id": "89d77d05-de87-4927-b143-90da03780f94",
   "metadata": {},
   "outputs": [],
   "source": [
    "чыв\n"
   ]
  }
 ],
 "metadata": {
  "kernelspec": {
   "display_name": "Python 3 (ipykernel)",
   "language": "python",
   "name": "python3"
  },
  "language_info": {
   "codemirror_mode": {
    "name": "ipython",
    "version": 3
   },
   "file_extension": ".py",
   "mimetype": "text/x-python",
   "name": "python",
   "nbconvert_exporter": "python",
   "pygments_lexer": "ipython3",
   "version": "3.9.18"
  }
 },
 "nbformat": 4,
 "nbformat_minor": 5
}
